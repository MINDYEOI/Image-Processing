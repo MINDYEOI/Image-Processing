{
 "cells": [
  {
   "cell_type": "code",
   "execution_count": 1,
   "metadata": {},
   "outputs": [],
   "source": [
    "import cv2\n",
    "import numpy as np\n",
    "import matplotlib.pyplot as plt\n",
    "import matplotlib.image as img"
   ]
  },
  {
   "cell_type": "code",
   "execution_count": 27,
   "metadata": {},
   "outputs": [
    {
     "name": "stdout",
     "output_type": "stream",
     "text": [
      "width:   150\n",
      "height:  95\n"
     ]
    }
   ],
   "source": [
    "I = cv2.imread('sample_smaller.png', cv2.IMREAD_GRAYSCALE)\n",
    "cv2.imshow('image', I)\n",
    "cv2.waitKey(0)\n",
    "cv2.destroyAllWindows()\n",
    "h, w = I.shape\n",
    "print('width:  ', w)\n",
    "print('height: ', h)\n"
   ]
  },
  {
   "cell_type": "code",
   "execution_count": 21,
   "metadata": {},
   "outputs": [],
   "source": [
    "# 빈칸 채우기 - 초기화 \n",
    "scale =  150*95                           \n",
    "pixel_replication = np.zeros((95,150), dtype=np.uint8)\n",
    "bilinear_interpolation = np.zeros((95,150), dtype=np.uint8)"
   ]
  },
  {
   "cell_type": "code",
   "execution_count": 24,
   "metadata": {},
   "outputs": [],
   "source": [
    "# Step2 - Pixel Replication 구현, Template 코드 무시하고 본인이 직접 구현하셔도 됩니다.\n",
    "def make_pixel_replication(img, scale_factor, result):\n",
    "    p = 0\n",
    "    q = 0\n",
    "    for i in range(0,95):                    # 반복문 채우기\n",
    "        for j in range(0,150):               # 반복문 채우기\n",
    "            result[i, j] = img[p, q]       \n",
    "            if  j % 6  == 0:                 # If문 조건 채우기\n",
    "                q = q + 1\n",
    "        q = 0\n",
    "        if  i % 6  == 0:                     # If문 조건 채우기\n",
    "            p = p + 1\n",
    "            \n",
    "    return result"
   ]
  },
  {
   "cell_type": "code",
   "execution_count": 30,
   "metadata": {},
   "outputs": [],
   "source": [
    "#  Step3 - Bilinear Interpolation, Template 코드 무시하고 본인이 직접 구현하셔도 됩니다.\n",
    "\n",
    "# 강의자료와 실습과제 PPT에 있는 공식을 이용하세요\n",
    "def make_bilinear_interpolation(img, scale_factor, result):\n",
    "    \n",
    "    for i in range( 0, 95 ):                                # 반복문 채우기\n",
    "        x1 = np.floor(i/scale_factor)\n",
    "        x2 = np.ceil(i/scale_factor)\n",
    "        if x2 == img.shape[0]:\n",
    "            x2 = img.shape[0]-1\n",
    "\n",
    "        x = np.mod((i)/scale_factor, 1)\n",
    "\n",
    "        for j in range( 0,150  ):                            # 반복문 채우기\n",
    "            y1 = np.floor(j/scale_factor)\n",
    "            y2 = np.ceil(j/scale_factor)\n",
    "            if y2 == img.shape[1]:\n",
    "                y2 = img.shape[1]-1\n",
    "\n",
    "            left_bottom = img[ 0 ,0  ]                         # 좌표 채우기\n",
    "            right_bottom = img[ 0 , 149 ]                        # 좌표 채우기\n",
    "            left_top = img[ 94 , 0 ]                            # 좌표 채우기\n",
    "            right_top = img[ 94 , 149 ]                           # 좌표 채우기\n",
    "            y = np.mod(j/scale_factor, 1)\n",
    "            inter_top = ( right_top *  y) + ( left_top *  (1-y))                 # 연산자 및 채워넣기, left_top과 left_bottom의 interpolation\n",
    "            inter_bottom = ( right_bottom * y) + ( left_bottom * (1-y))              # 연산자 및 채워넣기, right_top과 right_bottom의 interpolation\n",
    "\n",
    "            result[i, j] = (inter_bottom * x) + (inter_top * (1-x))\n",
    "            \n",
    "    return result"
   ]
  },
  {
   "cell_type": "code",
   "execution_count": 38,
   "metadata": {},
   "outputs": [
    {
     "data": {
      "image/png": "[encoded data removed]",
      "text/plain": [
       "<Figure size 360x720 with 2 Axes>"
      ]
     },
     "metadata": {
      "needs_background": "light"
     },
     "output_type": "display_data"
    }
   ],
   "source": [
    "px_replication =  make_pixel_replication(I, scale, pixel_replication)\n",
    "bilinear_interpolation = make_bilinear_interpolation(I, scale, bilinear_interpolation)\n",
    "\n",
    "# 실험 결과를 아래 보여주시고 두 방법의 성능을 비교한 걸 주석으로 작성하세요.\n",
    "\n",
    "# plotting 하는 코드, 중간중간에 비어진 부분을 채워 넣으세요.\n",
    "# P1B-Step3. Gamma값을 0.1, 0.5, 0.9, 2, 4로 설정하고 실험해보세요\n",
    "# P1B-Step4. 각각의 실험 결과와 원본 영상을 비교하여 보여주세요\n",
    "fig = plt.figure(figsize = (5, 10)) # rows*cols 행렬의 i번째 subplot 생성\n",
    "rows = 2\n",
    "cols = 1\n",
    "  \n",
    "ax1 = fig.add_subplot(rows, cols, 1)\n",
    "ax1.imshow(px_replication)\n",
    "ax1.set_title('Pixel Replication')\n",
    "\n",
    " \n",
    "ax2 = fig.add_subplot(rows, cols, 2)\n",
    "ax2.imshow(bilinear_interpolation)\n",
    "ax2.set_title('Bilinear Interpolation')\n",
    "ax2.axis(\"off\")\n",
    " \n",
    "plt.show()"
   ]
  }
 ],
 "metadata": {
  "kernelspec": {
   "display_name": "Python 3",
   "language": "python",
   "name": "python3"
  },
  "language_info": {
   "codemirror_mode": {
    "name": "ipython",
    "version": 3
   },
   "file_extension": ".py",
   "mimetype": "text/x-python",
   "name": "python",
   "nbconvert_exporter": "python",
   "pygments_lexer": "ipython3",
   "version": "3.8.5"
  }
 },
 "nbformat": 4,
 "nbformat_minor": 4
}

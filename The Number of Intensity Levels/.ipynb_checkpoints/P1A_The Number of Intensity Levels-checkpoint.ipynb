{
 "cells": [
  {
   "cell_type": "code",
   "execution_count": null,
   "metadata": {},
   "outputs": [],
   "source": [
    "import cv2\n",
    "import numpy as np\n",
    "import matplotlib.pyplot as plt\n",
    "import matplotlib.image as img"
   ]
  },
  {
   "cell_type": "code",
   "execution_count": null,
   "metadata": {},
   "outputs": [],
   "source": [
    "# P1A-Step1. e-campus에 첨부된 압축 폴더 중 [P1A]의 코드를 먼저 다운로드하세요.\n",
    "# P1A-Step2. 자신이 좋아하는 연예인의 사진을 png 파일로 다운로드하세요.\n",
    "I = cv2.imread(' 이미지 파일명 ', cv2.IMREAD_GRAYSCALE)  # 이미지를 Gray Scale로 불러오기, 여기 수정하세요. (P1A-Step3. 이미지 파일을 gray scale로 변환)"
   ]
  },
  {
   "cell_type": "code",
   "execution_count": null,
   "metadata": {},
   "outputs": [],
   "source": [
    "cv2.imshow('image', I)     # 이미지 출력, jupyter notebook 사용자용\n",
    "cv2.waitKey(0)\n",
    "cv2.destroyAllWindows()\n",
    "\n",
    "# colab 사용자용 이미지 출력\n",
    "# from google.colab import files\n",
    "# from IPython import display\n",
    "\n",
    "# display.Image(' 이미지 파일명 ')"
   ]
  },
  {
   "cell_type": "code",
   "execution_count": null,
   "metadata": {},
   "outputs": [],
   "source": [
    "Intensity_level = [ ,  ,  ,  ,  ,  ] # Intensity level 설정, 여기 수정하세요. (P1A-Step3. Intensity level을 각각 256, 32, 16, 8, 4, 2로 세팅해보세요)\n",
    "step = [ np.rint(255 / (i - 1)) for i in Intensity_level ] # Intensity level별로 양자화할 step을 지정하는 코드"
   ]
  },
  {
   "cell_type": "code",
   "execution_count": null,
   "metadata": {},
   "outputs": [],
   "source": [
    "print(step)"
   ]
  },
  {
   "cell_type": "code",
   "execution_count": null,
   "metadata": {},
   "outputs": [],
   "source": [
    "result_256 = np.rint(I /  ) *                      # Intensity level별 양자화 진행, 여기 수정하세요.\n",
    "result_32 = np.rint(I /   ) *                      # Intensity level별 양자화 진행, 여기 수정하세요.\n",
    "result_16 = np.rint(I /   ) *                      # Intensity level별 양자화 진행, 여기 수정하세요. \n",
    "result_8 = np.rint(I /    ) *                      # Intensity level별 양자화 진행, 여기 수정하세요. \n",
    "result_4 = np.rint(I /    ) *                      # Intensity level별 양자화 진행, 여기 수정하세요. \n",
    "result_2 = np.rint(I /    ) *                      # Intensity level별 양자화 진행, 여기 수정하세요. \n",
    "\n",
    "result_256 = result_256.astype('uint8')            # 이미지 출력을 위해서는 uint8형으로 형변환 해야함\n",
    "result_32 = result_32.astype('uint8')\n",
    "result_16 = result_16.astype('uint8')\n",
    "result_8 = result_8.astype('uint8')\n",
    "result_4 = result_4.astype('uint8')\n",
    "result_2 = result_2.astype('uint8')"
   ]
  },
  {
   "cell_type": "code",
   "execution_count": null,
   "metadata": {},
   "outputs": [],
   "source": [
    "# plotting 하는 코드, 수정할 필요는 없습니다.\n",
    "# P1A-Step4 각각의 실험 결과를 차례대로 보여주세요.\n",
    "fig = plt.figure(figsize = (15, 10)) # rows*cols 행렬의 i번째 subplot 생성\n",
    "rows = 2\n",
    "cols = 3\n",
    "  \n",
    "ax1 = fig.add_subplot(rows, cols, 1)\n",
    "result_256_RGB = cv2.cvtColor(result_256, cv2.COLOR_GRAY2RGB)      # matplot 라이브러리의 imshow함수를 사용하여 영상을 보일경우, RGB 포맷으로 변환해주어야 함\n",
    "ax1.imshow(result_256_RGB)\n",
    "ax1.set_title('Levels: 256')\n",
    "ax1.axis(\"off\")\n",
    " \n",
    "ax2 = fig.add_subplot(rows, cols, 2)\n",
    "result_32_RGB = cv2.cvtColor(result_32, cv2.COLOR_GRAY2RGB)\n",
    "ax2.imshow(result_32_RGB)\n",
    "ax2.set_title('Levels: 32')\n",
    "ax2.axis(\"off\")\n",
    " \n",
    "ax3 = fig.add_subplot(rows, cols, 3)\n",
    "result_16_RGB = cv2.cvtColor(result_16, cv2.COLOR_GRAY2RGB)\n",
    "ax3.imshow(result_16_RGB)\n",
    "ax3.set_title('Levels: 16')\n",
    "ax3.axis(\"off\")\n",
    " \n",
    "ax4 = fig.add_subplot(rows, cols, 4)\n",
    "result_8_RGB = cv2.cvtColor(result_8, cv2.COLOR_GRAY2RGB)\n",
    "ax4.imshow(result_8_RGB)\n",
    "ax4.set_title('Levels: 8')\n",
    "ax4.axis(\"off\")\n",
    "\n",
    "ax5 = fig.add_subplot(rows, cols, 5)\n",
    "result_4_RGB = cv2.cvtColor(result_4, cv2.COLOR_GRAY2RGB)\n",
    "ax5.imshow(result_4_RGB)\n",
    "ax5.set_title('Levels: 4')\n",
    "ax5.axis(\"off\")\n",
    " \n",
    "ax6 = fig.add_subplot(rows, cols, 6)\n",
    "result_2_RGB = cv2.cvtColor(result_2, cv2.COLOR_GRAY2RGB)\n",
    "ax6.imshow(result_2_RGB)\n",
    "ax6.set_title('Levels: 2')\n",
    "ax6.axis(\"off\")\n",
    "\n",
    "plt.show()\n"
   ]
  }
 ],
 "metadata": {
  "kernelspec": {
   "display_name": "Python 3",
   "language": "python",
   "name": "python3"
  },
  "language_info": {
   "codemirror_mode": {
    "name": "ipython",
    "version": 3
   },
   "file_extension": ".py",
   "mimetype": "text/x-python",
   "name": "python",
   "nbconvert_exporter": "python",
   "pygments_lexer": "ipython3",
   "version": "3.7.6"
  }
 },
 "nbformat": 4,
 "nbformat_minor": 4
}

{
 "cells": [
  {
   "cell_type": "code",
   "execution_count": 1,
   "metadata": {},
   "outputs": [],
   "source": [
    "import cv2\n",
    "import numpy as np\n",
    "import matplotlib.pyplot as plt\n",
    "import matplotlib.image as img"
   ]
  },
  {
   "cell_type": "code",
   "execution_count": 2,
   "metadata": {},
   "outputs": [],
   "source": [
    "# P1C-Step1. e-campus에 첨부된 압축 폴더 중 [P1C]의 코드와 이미지를 먼저 다운로드하세요.\n",
    "I = cv2.imread('pollen.jpg', cv2.IMREAD_GRAYSCALE)  # 이미지를 Gray Scale로 불러오기"
   ]
  },
  {
   "cell_type": "code",
   "execution_count": 3,
   "metadata": {},
   "outputs": [],
   "source": [
    "cv2.imshow('image', I)     # 이미지 출력, jupyter notebook 사용자용\n",
    "cv2.waitKey(0)\n",
    "cv2.destroyAllWindows()\n",
    "\n",
    "# colab 사용자용 이미지 출력\n",
    "# from google.colab import files\n",
    "# from IPython import display\n",
    "\n",
    "# display.Image(' 이미지 파일명 ')"
   ]
  },
  {
   "cell_type": "code",
   "execution_count": null,
   "metadata": {},
   "outputs": [],
   "source": [
    "# P1C-Step2. Histogram Equalization을 구현하여 다운받은 이미지에 대해 적용해보세요. \n",
    "hist, bins = np.histogram(I.flatten(),256,[0,256])                             # flatten 함수를 사용해서 2차원배열을 1차원으로 재배열 후 256개의 bin을 구함, hist는 도수, bin은 구분을 의미 \n",
    "pdf =   / ( * )                                                               # pdf 구하기, 여기 수정하세요\n",
    "cdf = pdf.                                                                    # cumsum은 CDF를 구하는 누적합 함수, cumsum 함수를 사용하세요\n",
    "myHE =                                                                        # Histogram Equalizatioin을 하기 위해 255와 cdf를 곱하는 부분, 여기 수정하세요\n",
    "myHE = myHE.astype('uint8')                                                   # floating point -> uint8\n",
    "HE_I = myHE[I]                                                                 # HE 적용\n",
    "\n",
    "#P1C-Step3. OpenCV의 Histogram Equalization 함수를 다운받은 이미지에 대해 적용해보세요. \n",
    "cv2_HE_I = cv2.equalizeHist(cv2.imread('pollen.jpg', cv2.IMREAD_GRAYSCALE))   # OpenCV에서 제공하는 HE 함수"
   ]
  },
  {
   "cell_type": "code",
   "execution_count": null,
   "metadata": {},
   "outputs": [],
   "source": [
    "# plotting 하는 코드, 수정할 필요는 없습니다.\n",
    "# P1C-Step4. step2&step3의 실험 결과와 원본 영상, histogram을 비교하여 보여주세요.\n",
    "fig = plt.figure(figsize = (15, 10)) # rows*cols 행렬의 i번째 subplot 생성\n",
    "rows = 3\n",
    "cols = 2\n",
    "  \n",
    "ax1 = fig.add_subplot(rows, cols, 1)\n",
    "I_RGB = cv2.cvtColor(I, cv2.COLOR_GRAY2RGB)               # matplot 라이브러리의 imshow함수를 사용하여 영상을 보일경우, RGB 포맷으로 변환해주어야 함\n",
    "ax1.imshow(I_RGB)\n",
    "ax1.set_title('Original')\n",
    "ax1.axis(\"off\")\n",
    " \n",
    "ax2 = fig.add_subplot(rows, cols, 2)\n",
    "ax2.hist(I.flatten(),256,[0,256], color = 'black')\n",
    "ax2.set_title('Histogram (Original)')\n",
    "\n",
    "ax3 = fig.add_subplot(rows, cols, 3)\n",
    "HE_I_RGB = cv2.cvtColor(HE_I, cv2.COLOR_GRAY2RGB)\n",
    "ax3.imshow(HE_I_RGB)\n",
    "ax3.set_title('After Histogram Equalization')\n",
    "ax3.axis(\"off\")\n",
    " \n",
    "ax4 = fig.add_subplot(rows, cols, 4)\n",
    "ax4.hist(HE_I.flatten(),256,[0,256], color = 'black')\n",
    "ax4.set_title('Histogram (After HE)')\n",
    "\n",
    "ax5 = fig.add_subplot(rows, cols, 5)\n",
    "cv2_HE_I_RGB = cv2.cvtColor(cv2_HE_I, cv2.COLOR_GRAY2RGB)\n",
    "ax5.imshow(cv2_HE_I_RGB, cmap='gray')\n",
    "ax5.set_title('After Histogram Equalization (OpenCV)')\n",
    "ax5.axis(\"off\")\n",
    " \n",
    "ax6 = fig.add_subplot(rows, cols, 6)\n",
    "ax6.hist(cv2_HE_I.flatten(),256,[0,256], color = 'black')\n",
    "ax6.set_title('Histogram (After HE-OpenCV)')\n"
   ]
  },
  {
   "cell_type": "code",
   "execution_count": null,
   "metadata": {},
   "outputs": [],
   "source": []
  }
 ],
 "metadata": {
  "kernelspec": {
   "display_name": "Python 3",
   "language": "python",
   "name": "python3"
  },
  "language_info": {
   "codemirror_mode": {
    "name": "ipython",
    "version": 3
   },
   "file_extension": ".py",
   "mimetype": "text/x-python",
   "name": "python",
   "nbconvert_exporter": "python",
   "pygments_lexer": "ipython3",
   "version": "3.8.5"
  }
 },
 "nbformat": 4,
 "nbformat_minor": 4
}
